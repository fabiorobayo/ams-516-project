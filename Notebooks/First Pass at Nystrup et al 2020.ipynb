{
 "cells": [
  {
   "cell_type": "code",
   "execution_count": 1,
   "id": "96e61170",
   "metadata": {},
   "outputs": [],
   "source": [
    "%load_ext autoreload\n",
    "%autoreload 2\n",
    "\n",
    "import pandas as pd\n",
    "import numpy as np\n",
    "# import yfinance as yf\n",
    "#  from pomegranate import HiddenMarkovModel, State, NormalDistribution, GeneralMixtureModel\n",
    "import matplotlib.pyplot as plt\n",
    "from sklearn.cluster import KMeans\n",
    "from scipy import optimize\n",
    "\n",
    "from HMM.HMM import *"
   ]
  },
  {
   "cell_type": "markdown",
   "id": "59dfdeda",
   "metadata": {},
   "source": [
    "### Testing with discrete samples (known result)"
   ]
  },
  {
   "cell_type": "code",
   "execution_count": null,
   "id": "59465849",
   "metadata": {},
   "outputs": [],
   "source": [
    "Gamma = np.array([[0.7,0.3],[0.4,0.6]])\n",
    "pi = np.array([[0.1,0.4,0.5],[0.7,0.2,0.1]])\n",
    "delta = [0.6,0.4]\n",
    "sequence = [0,1,0,2]"
   ]
  },
  {
   "cell_type": "code",
   "execution_count": null,
   "id": "961c8b9d",
   "metadata": {},
   "outputs": [],
   "source": [
    "l = logLikelihood_discrete(delta, Gamma, pi, sequence)"
   ]
  },
  {
   "cell_type": "code",
   "execution_count": null,
   "id": "d1df6c95",
   "metadata": {},
   "outputs": [],
   "source": [
    "np.exp(l)"
   ]
  },
  {
   "cell_type": "markdown",
   "id": "d8e57704",
   "metadata": {},
   "source": [
    "### Load Data"
   ]
  },
  {
   "cell_type": "code",
   "execution_count": 2,
   "id": "6c344c27",
   "metadata": {},
   "outputs": [],
   "source": [
    "# Using yfinance\n",
    "# msci_world = yf.Ticker('URTH')\n",
    "# msci_data = msci_world.history(period='max')\n",
    "# msci_data.drop_duplicates(inplace=True)\n",
    "\n",
    "# Loading from csv\n",
    "msci_data = pd.read_csv('MSCI World Index_11_22_21-12_31_93.csv')"
   ]
  },
  {
   "cell_type": "code",
   "execution_count": 80,
   "id": "8f79e649",
   "metadata": {},
   "outputs": [],
   "source": [
    "log_returns = np.log(1 + msci_data.set_index('Date').sort_index().pct_change().dropna().query('Date >= \"1997-01-01\"').Close.values)"
   ]
  },
  {
   "cell_type": "code",
   "execution_count": 4,
   "id": "04513047",
   "metadata": {},
   "outputs": [],
   "source": [
    "N_eff = 260"
   ]
  },
  {
   "cell_type": "code",
   "execution_count": 5,
   "id": "38896f61",
   "metadata": {},
   "outputs": [],
   "source": [
    "f = 1 - 1/N_eff"
   ]
  },
  {
   "cell_type": "code",
   "execution_count": 6,
   "id": "75591b66",
   "metadata": {},
   "outputs": [],
   "source": [
    "weights = f**np.arange(N_eff, 0, -1)"
   ]
  },
  {
   "cell_type": "code",
   "execution_count": 81,
   "id": "9dae0189",
   "metadata": {},
   "outputs": [],
   "source": [
    "kmeans = KMeans(n_clusters=2).fit(log_returns[:,np.newaxis])"
   ]
  },
  {
   "cell_type": "markdown",
   "id": "defe7a3f",
   "metadata": {},
   "source": [
    "## Cell below can be used to guess mean and std dev of 2 states"
   ]
  },
  {
   "cell_type": "code",
   "execution_count": 82,
   "id": "896a2323",
   "metadata": {},
   "outputs": [],
   "source": [
    "pi = []\n",
    "for i in range(kmeans.n_clusters):\n",
    "    X = log_returns[np.where(kmeans.labels_ == i)[0]]\n",
    "    pi.append(NDist(kmeans.cluster_centers_[i][0],X.std()))"
   ]
  },
  {
   "cell_type": "code",
   "execution_count": 83,
   "id": "afb2c4ae",
   "metadata": {},
   "outputs": [],
   "source": [
    "pi_params = np.array([[0.05/252,0.11/np.sqrt(252)],[-0.1/252,0.3/np.sqrt(252)]]) "
   ]
  },
  {
   "cell_type": "code",
   "execution_count": 84,
   "id": "9bd82a46",
   "metadata": {},
   "outputs": [],
   "source": [
    "pi = [NDist(p[0],p[1]) for p in pi_params]"
   ]
  },
  {
   "cell_type": "code",
   "execution_count": 85,
   "id": "4c894deb",
   "metadata": {},
   "outputs": [],
   "source": [
    "r = np.random.randn(2,1)*0.01 + (1/2)\n",
    "Gamma = np.hstack([r,1-r])\n",
    "delta = np.random.randn(2,1)*0.01 + (1/2)"
   ]
  },
  {
   "cell_type": "code",
   "execution_count": 86,
   "id": "a2ff5ac9",
   "metadata": {},
   "outputs": [],
   "source": [
    "l = log_likelihood(delta, Gamma, pi, log_returns[:N_eff], weights=weights)"
   ]
  },
  {
   "cell_type": "code",
   "execution_count": 87,
   "id": "27a36a6c",
   "metadata": {},
   "outputs": [
    {
     "data": {
      "text/plain": [
       "8.482320928868047"
      ]
     },
     "execution_count": 87,
     "metadata": {},
     "output_type": "execute_result"
    }
   ],
   "source": [
    "l"
   ]
  },
  {
   "cell_type": "code",
   "execution_count": 88,
   "id": "cff5042b",
   "metadata": {},
   "outputs": [],
   "source": [
    "theta_0 = [delta[0][0],Gamma[0,1],Gamma[1,0],pi_params[0][0],pi_params[0][1],pi_params[1][0],pi_params[1][1]]"
   ]
  },
  {
   "cell_type": "code",
   "execution_count": 89,
   "id": "3a7c7d53",
   "metadata": {},
   "outputs": [
    {
     "data": {
      "text/plain": [
       "[0.5077055826569,\n",
       " 0.5089675748916382,\n",
       " 0.49371308141923975,\n",
       " 0.0001984126984126984,\n",
       " 0.006929348671835832,\n",
       " -0.0003968253968253968,\n",
       " 0.01889822365046136]"
      ]
     },
     "execution_count": 89,
     "metadata": {},
     "output_type": "execute_result"
    }
   ],
   "source": [
    "theta_0"
   ]
  },
  {
   "cell_type": "code",
   "execution_count": 93,
   "id": "6544dbe6",
   "metadata": {},
   "outputs": [],
   "source": [
    "foo = lambda x: -log_likelihood_optim(x,log_returns)"
   ]
  },
  {
   "cell_type": "code",
   "execution_count": 94,
   "id": "7caa8f46",
   "metadata": {},
   "outputs": [
    {
     "name": "stderr",
     "output_type": "stream",
     "text": [
      "/Users/Fabio/Documents/Personal/PhD/Fall 2021/AMS 516/Project/ams-516-project/HMM/HMM.py:37: RuntimeWarning: invalid value encountered in double_scalars\n",
      "  _lambda[j, t] /= Lambda[t-1]\n"
     ]
    }
   ],
   "source": [
    "theta = optimize.minimize(foo, np.array(theta_0), method='Nelder-Mead',bounds=[(0,1),(0,1),(0,1),(-0.05,0.05),(0.002,0.05),(-0.1,0.1),(0.002,0.05)])"
   ]
  },
  {
   "cell_type": "code",
   "execution_count": 95,
   "id": "6737513d",
   "metadata": {},
   "outputs": [
    {
     "data": {
      "text/plain": [
       "array([ 1.71886280e-03,  1.00000000e+00,  1.56178938e-01,  8.75618896e-04,\n",
       "        2.00000000e-03, -2.09113589e-03,  3.05494832e-03])"
      ]
     },
     "execution_count": 95,
     "metadata": {},
     "output_type": "execute_result"
    }
   ],
   "source": [
    "theta.x"
   ]
  },
  {
   "cell_type": "code",
   "execution_count": 96,
   "id": "07513d89",
   "metadata": {},
   "outputs": [],
   "source": [
    "theta_0_prime = [0.7,0.99,0.95,0.001,np.sqrt(1/252)*0.11,-0.005,np.sqrt(1/252)*0.3]"
   ]
  },
  {
   "cell_type": "code",
   "execution_count": null,
   "id": "fa0cbd0c",
   "metadata": {},
   "outputs": [],
   "source": [
    "theta_0_prime"
   ]
  },
  {
   "cell_type": "code",
   "execution_count": 99,
   "id": "3ce1eb43",
   "metadata": {},
   "outputs": [],
   "source": [
    "foo_prime = lambda x: -log_likelihood_optim(x,log_returns[:N_eff], weights=weights)"
   ]
  },
  {
   "cell_type": "code",
   "execution_count": 100,
   "id": "f973bab4",
   "metadata": {},
   "outputs": [],
   "source": [
    "theta_prime = optimize.minimize(foo_prime, np.array(theta_0),method='Nelder-Mead', bounds=[(0,1),(0,1),(0,1),(-0.05,0.05),(0.002,0.05),(-0.1,0.1),(0.002,0.05)])"
   ]
  },
  {
   "cell_type": "code",
   "execution_count": 109,
   "id": "d5db9fa8",
   "metadata": {},
   "outputs": [
    {
     "data": {
      "text/plain": [
       "4e-06"
      ]
     },
     "execution_count": 109,
     "metadata": {},
     "output_type": "execute_result"
    }
   ],
   "source": [
    "theta_prime.x[4]**2"
   ]
  },
  {
   "cell_type": "code",
   "execution_count": null,
   "id": "63a35edb",
   "metadata": {
    "scrolled": false
   },
   "outputs": [],
   "source": [
    "logLikelihood_optim(theta_prime.x, log_returns[:N_eff], weights=weights)"
   ]
  },
  {
   "cell_type": "code",
   "execution_count": null,
   "id": "c4b07422",
   "metadata": {},
   "outputs": [],
   "source": [
    "msci_data.Close.pct_change()[:N_eff].hist()"
   ]
  },
  {
   "cell_type": "markdown",
   "id": "e53b423a",
   "metadata": {},
   "source": [
    "### Calculating forecasts according to HMM"
   ]
  },
  {
   "cell_type": "code",
   "execution_count": null,
   "id": "c33efdde",
   "metadata": {},
   "outputs": [],
   "source": [
    "K = 100\n",
    "\n",
    "Pi = np.eye(2)\n",
    "for y_t in log_returns[:K]:\n",
    "    P_t = np.diag([d1.probability(y_t),d2.probability(y_t)])\n",
    "    Pi = Pi@(Gamma@P_t)\n",
    "\n",
    "alpha = (delta.T@Pi/((delta.T@Pi).sum())).T\n",
    "\n",
    "alphas = np.zeros((K,2))\n",
    "alphas[0] = alpha.T\n",
    "for i in range(1, K):\n",
    "    alphas[i] = alphas[i-1]@Gamma\n",
    "\n",
    "means = np.array([[d1.parameters[0]],[d2.parameters[0]]])\n",
    "sigmas = np.array([[d1.parameters[1]],[d2.parameters[1]]])\n",
    "\n",
    "mu = alphas@means\n",
    "\n",
    "sigma_sqd = alphas@(means**2+sigmas**2) + mu**2\n",
    "\n",
    "forecasted_mean = np.exp(mu+sigma_sqd/2)-1\n",
    "\n",
    "forecasted_var = (np.exp(sigma_sqd)-1)*np.exp(2*mu+sigma_sqd)\n",
    "\n",
    "forecasted_mean"
   ]
  },
  {
   "cell_type": "code",
   "execution_count": null,
   "id": "126e605b",
   "metadata": {},
   "outputs": [],
   "source": [
    "for t in range(T):\n",
    "    length N_eff = 260\n",
    "    estimate parameters based of data \n",
    "    calculate forecast\n",
    "    solve using corbin's code\n",
    "    calc new portfolio"
   ]
  },
  {
   "cell_type": "code",
   "execution_count": null,
   "id": "f663fdcb",
   "metadata": {},
   "outputs": [],
   "source": []
  }
 ],
 "metadata": {
  "kernelspec": {
   "display_name": "Python [conda env:rl-project]",
   "language": "python",
   "name": "conda-env-rl-project-py"
  },
  "language_info": {
   "codemirror_mode": {
    "name": "ipython",
    "version": 3
   },
   "file_extension": ".py",
   "mimetype": "text/x-python",
   "name": "python",
   "nbconvert_exporter": "python",
   "pygments_lexer": "ipython3",
   "version": "3.9.7"
  }
 },
 "nbformat": 4,
 "nbformat_minor": 5
}
