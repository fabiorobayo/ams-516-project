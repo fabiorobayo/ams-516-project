{
 "cells": [
  {
   "cell_type": "code",
   "execution_count": 2,
   "id": "96e61170",
   "metadata": {},
   "outputs": [
    {
     "name": "stdout",
     "output_type": "stream",
     "text": [
      "The autoreload extension is already loaded. To reload it, use:\n",
      "  %reload_ext autoreload\n"
     ]
    }
   ],
   "source": [
    "%load_ext autoreload\n",
    "%autoreload 2\n",
    "\n",
    "import pandas as pd\n",
    "import numpy as np\n",
    "# import yfinance as yf\n",
    "#  from pomegranate import HiddenMarkovModel, State, NormalDistribution, GeneralMixtureModel\n",
    "import matplotlib.pyplot as plt\n",
    "from sklearn.cluster import KMeans\n",
    "from scipy import optimize\n",
    "\n",
    "from src.HMM import *"
   ]
  },
  {
   "cell_type": "markdown",
   "id": "59dfdeda",
   "metadata": {},
   "source": [
    "### Testing with discrete samples (known result)"
   ]
  },
  {
   "cell_type": "code",
   "execution_count": 13,
   "id": "59465849",
   "metadata": {},
   "outputs": [],
   "source": [
    "Gamma = np.array([[0.7,0.3],[0.4,0.6]])\n",
    "pi = np.array([[0.1,0.4,0.5],[0.7,0.2,0.1]])\n",
    "delta = np.array([0.6,0.4])\n",
    "sequence = np.array([0,1,0,2])"
   ]
  },
  {
   "cell_type": "code",
   "execution_count": 14,
   "id": "961c8b9d",
   "metadata": {},
   "outputs": [],
   "source": [
    "l = log_likelihood_discrete(delta, Gamma, pi, sequence)"
   ]
  },
  {
   "cell_type": "code",
   "execution_count": 15,
   "id": "d1df6c95",
   "metadata": {},
   "outputs": [
    {
     "data": {
      "text/plain": [
       "0.009629600000000004"
      ]
     },
     "execution_count": 15,
     "metadata": {},
     "output_type": "execute_result"
    }
   ],
   "source": [
    "np.exp(l)"
   ]
  },
  {
   "cell_type": "code",
   "execution_count": 16,
   "id": "1eb1e1a1",
   "metadata": {},
   "outputs": [],
   "source": [
    "params = baum_welch(sequence, Gamma, pi, delta)"
   ]
  },
  {
   "cell_type": "code",
   "execution_count": 19,
   "id": "52ab33f3",
   "metadata": {},
   "outputs": [
    {
     "data": {
      "text/plain": [
       "{'a': array([[0., 1.],\n",
       "        [1., 0.]]),\n",
       " 'b': array([[0. , 0.5, 0.5],\n",
       "        [1. , 0. , 0. ]])}"
      ]
     },
     "execution_count": 19,
     "metadata": {},
     "output_type": "execute_result"
    }
   ],
   "source": [
    "params"
   ]
  },
  {
   "cell_type": "markdown",
   "id": "d8e57704",
   "metadata": {},
   "source": [
    "### Load Data"
   ]
  },
  {
   "cell_type": "code",
   "execution_count": 7,
   "id": "6c344c27",
   "metadata": {},
   "outputs": [],
   "source": [
    "# Using yfinance\n",
    "# msci_world = yf.Ticker('URTH')\n",
    "# msci_data = msci_world.history(period='max')\n",
    "# msci_data.drop_duplicates(inplace=True)\n",
    "\n",
    "# Loading from csv\n",
    "msci_data = pd.read_csv('MSCI World Index_11_22_21-12_31_93.csv')"
   ]
  },
  {
   "cell_type": "code",
   "execution_count": 8,
   "id": "8f79e649",
   "metadata": {},
   "outputs": [],
   "source": [
    "log_returns = np.log(1 + msci_data.set_index('Date').sort_index().pct_change().dropna().query('Date >= \"1997-01-01\"').Close.values)"
   ]
  },
  {
   "cell_type": "code",
   "execution_count": 9,
   "id": "04513047",
   "metadata": {},
   "outputs": [],
   "source": [
    "N_eff = 260"
   ]
  },
  {
   "cell_type": "code",
   "execution_count": 10,
   "id": "38896f61",
   "metadata": {},
   "outputs": [],
   "source": [
    "f = 1 - 1/N_eff"
   ]
  },
  {
   "cell_type": "code",
   "execution_count": null,
   "id": "e8abb97d",
   "metadata": {},
   "outputs": [],
   "source": [
    "f**260"
   ]
  },
  {
   "cell_type": "code",
   "execution_count": null,
   "id": "75591b66",
   "metadata": {},
   "outputs": [],
   "source": [
    "weights = f**np.arange(N_eff, 0, -1)"
   ]
  },
  {
   "cell_type": "code",
   "execution_count": null,
   "id": "9dae0189",
   "metadata": {},
   "outputs": [],
   "source": [
    "kmeans = KMeans(n_clusters=2).fit(log_returns[:,np.newaxis])"
   ]
  },
  {
   "cell_type": "markdown",
   "id": "defe7a3f",
   "metadata": {},
   "source": [
    "## Cell below can be used to guess mean and std dev of 2 states"
   ]
  },
  {
   "cell_type": "code",
   "execution_count": null,
   "id": "896a2323",
   "metadata": {},
   "outputs": [],
   "source": [
    "pi = []\n",
    "for i in range(kmeans.n_clusters):\n",
    "    X = log_returns[np.where(kmeans.labels_ == i)[0]]\n",
    "    pi.append(NDist(kmeans.cluster_centers_[i][0],X.std()))"
   ]
  },
  {
   "cell_type": "code",
   "execution_count": null,
   "id": "afb2c4ae",
   "metadata": {},
   "outputs": [],
   "source": [
    "pi_params = np.array([[0.05/252,0.11/np.sqrt(252)],[-0.1/252,0.3/np.sqrt(252)]]) "
   ]
  },
  {
   "cell_type": "code",
   "execution_count": null,
   "id": "9bd82a46",
   "metadata": {},
   "outputs": [],
   "source": [
    "pi = [NDist(p[0],p[1]) for p in pi_params]"
   ]
  },
  {
   "cell_type": "code",
   "execution_count": null,
   "id": "4c894deb",
   "metadata": {},
   "outputs": [],
   "source": [
    "r = np.random.randn(2,1)*0.01 + (1/2)\n",
    "Gamma = np.hstack([r,1-r])\n",
    "delta = np.random.randn(2,1)*0.01 + (1/2)"
   ]
  },
  {
   "cell_type": "code",
   "execution_count": null,
   "id": "a2ff5ac9",
   "metadata": {},
   "outputs": [],
   "source": [
    "l = log_likelihood(delta, Gamma, pi, log_returns[:N_eff], weights=None)"
   ]
  },
  {
   "cell_type": "code",
   "execution_count": null,
   "id": "27a36a6c",
   "metadata": {},
   "outputs": [],
   "source": [
    "l"
   ]
  },
  {
   "cell_type": "code",
   "execution_count": null,
   "id": "cff5042b",
   "metadata": {},
   "outputs": [],
   "source": [
    "theta_0 = [delta[0][0],Gamma[0,1],Gamma[1,0],pi_params[0][0],pi_params[0][1],pi_params[1][0],pi_params[1][1]]"
   ]
  },
  {
   "cell_type": "code",
   "execution_count": null,
   "id": "3a7c7d53",
   "metadata": {},
   "outputs": [],
   "source": [
    "theta_0"
   ]
  },
  {
   "cell_type": "code",
   "execution_count": null,
   "id": "6544dbe6",
   "metadata": {},
   "outputs": [],
   "source": [
    "foo = lambda x: -log_likelihood_optim(x, log_returns)"
   ]
  },
  {
   "cell_type": "code",
   "execution_count": null,
   "id": "7caa8f46",
   "metadata": {},
   "outputs": [],
   "source": [
    "theta = optimize.minimize(foo, np.array(theta_0), method='Nelder-Mead',bounds=[(0,1),(0,1),(0,1),(-0.05,0.05),(0.002,0.05),(-0.1,0.1),(0.002,0.05)])"
   ]
  },
  {
   "cell_type": "code",
   "execution_count": null,
   "id": "6737513d",
   "metadata": {},
   "outputs": [],
   "source": [
    "theta.x"
   ]
  },
  {
   "cell_type": "code",
   "execution_count": null,
   "id": "85d5a712",
   "metadata": {},
   "outputs": [],
   "source": [
    "delta, Gamma, pi = vec_to_params(theta.x)"
   ]
  },
  {
   "cell_type": "code",
   "execution_count": null,
   "id": "3d6d6f0f",
   "metadata": {},
   "outputs": [],
   "source": [
    "log_likelihood(delta, Gamma, pi, log_returns)"
   ]
  },
  {
   "cell_type": "code",
   "execution_count": null,
   "id": "fe8b7361",
   "metadata": {},
   "outputs": [],
   "source": [
    "theta = optimize.minimize(foo, np.array(theta_0), method='trust-constr',bounds=[(0,1),(0,1),(0,1),(-0.05,0.05),(0.002,0.05),(-0.1,0.1),(0.002,0.05)])"
   ]
  },
  {
   "cell_type": "code",
   "execution_count": null,
   "id": "f585690b",
   "metadata": {},
   "outputs": [],
   "source": [
    "theta.x[6]"
   ]
  },
  {
   "cell_type": "code",
   "execution_count": null,
   "id": "07513d89",
   "metadata": {},
   "outputs": [],
   "source": [
    "theta_0_prime = [0.7,0.99,0.95,0.001,np.sqrt(1/252)*0.11,-0.005,np.sqrt(1/252)*0.3]"
   ]
  },
  {
   "cell_type": "code",
   "execution_count": null,
   "id": "fa0cbd0c",
   "metadata": {},
   "outputs": [],
   "source": [
    "theta_0_prime"
   ]
  },
  {
   "cell_type": "code",
   "execution_count": null,
   "id": "3ce1eb43",
   "metadata": {},
   "outputs": [],
   "source": [
    "foo_prime = lambda x: -log_likelihood_optim(x,log_returns[:N_eff], weights=None)"
   ]
  },
  {
   "cell_type": "code",
   "execution_count": null,
   "id": "f973bab4",
   "metadata": {},
   "outputs": [],
   "source": [
    "theta_prime = optimize.minimize(foo_prime, np.array(theta_0),method='Nelder-Mead', bounds=[(0,1),(0,1),(0,1),(-0.05,0.05),(0.002,0.05),(-0.1,0.1),(0.002,0.05)])"
   ]
  },
  {
   "cell_type": "code",
   "execution_count": null,
   "id": "d5db9fa8",
   "metadata": {},
   "outputs": [],
   "source": [
    "theta_prime.x[2]#*np.sqrt(252)"
   ]
  },
  {
   "cell_type": "markdown",
   "id": "e53b423a",
   "metadata": {},
   "source": [
    "### Calculating forecasts according to HMM"
   ]
  },
  {
   "cell_type": "code",
   "execution_count": null,
   "id": "c33efdde",
   "metadata": {},
   "outputs": [],
   "source": [
    "deltaHat, GammaHat, piHat = vec_to_params(theta_prime.x)\n",
    "forecasted_mean, forecasted_var = get_hmm_forecasts(100, deltaHat, GammaHat, piHat, log_returns)"
   ]
  },
  {
   "cell_type": "code",
   "execution_count": null,
   "id": "7d2b4003",
   "metadata": {},
   "outputs": [],
   "source": [
    "plt.plot(forecasted_mean*252)"
   ]
  },
  {
   "cell_type": "code",
   "execution_count": null,
   "id": "0cdd84e6",
   "metadata": {},
   "outputs": [],
   "source": [
    "l, score, information = score_and_information(deltaHat, GammaHat, piHat, log_returns[:N_eff], weights=None)"
   ]
  },
  {
   "cell_type": "code",
   "execution_count": null,
   "id": "d3448e3f",
   "metadata": {},
   "outputs": [],
   "source": [
    "information"
   ]
  },
  {
   "cell_type": "code",
   "execution_count": null,
   "id": "da16139d",
   "metadata": {},
   "outputs": [],
   "source": [
    "theta_hat = params_to_vec(deltaHat, GammaHat, piHat)"
   ]
  },
  {
   "cell_type": "code",
   "execution_count": null,
   "id": "d4802d2b",
   "metadata": {},
   "outputs": [],
   "source": [
    "theta_hat + (1/N_eff)*np.linalg.inv(information)@score"
   ]
  },
  {
   "cell_type": "code",
   "execution_count": null,
   "id": "88872838",
   "metadata": {},
   "outputs": [],
   "source": [
    "theta_hat"
   ]
  },
  {
   "cell_type": "code",
   "execution_count": null,
   "id": "17df0154",
   "metadata": {},
   "outputs": [],
   "source": [
    "deltaHat, GammaHat, piHat = vec_to_params(theta_prime.x)"
   ]
  },
  {
   "cell_type": "code",
   "execution_count": null,
   "id": "fe4bd3c6",
   "metadata": {
    "scrolled": false
   },
   "outputs": [],
   "source": [
    "for i in range(1000):\n",
    "    theta_hat = params_to_vec(deltaHat, GammaHat, piHat)\n",
    "    l, score, information = score_and_information(deltaHat, GammaHat, piHat, log_returns[:N_eff], weights=None)\n",
    "    print(l)\n",
    "    theta_hat = theta_hat + (1/N_eff)*np.linalg.inv(information)@score\n",
    "    theta_hat[0] = min(max(theta_hat[0],0),1)\n",
    "    theta_hat[1] = min(max(theta_hat[1],0),1)\n",
    "    theta_hat[2] = min(max(theta_hat[2],0),1)    \n",
    "    deltaHat, GammaHat, piHat = vec_to_params(theta_hat)"
   ]
  },
  {
   "cell_type": "code",
   "execution_count": null,
   "id": "951dc979",
   "metadata": {},
   "outputs": [],
   "source": [
    "theta_hat"
   ]
  },
  {
   "cell_type": "code",
   "execution_count": null,
   "id": "e3072056",
   "metadata": {},
   "outputs": [],
   "source": [
    "theta_hat"
   ]
  },
  {
   "cell_type": "code",
   "execution_count": null,
   "id": "acba88d1",
   "metadata": {},
   "outputs": [],
   "source": [
    "from hmmlearn import hmm"
   ]
  },
  {
   "cell_type": "code",
   "execution_count": null,
   "id": "858931bb",
   "metadata": {},
   "outputs": [],
   "source": [
    "model = hmm.GaussianHMM(n_components=2, covariance_type=\"diag\", n_iter=100000)"
   ]
  },
  {
   "cell_type": "code",
   "execution_count": null,
   "id": "08850aa4",
   "metadata": {},
   "outputs": [],
   "source": [
    "model = model.fit(log_returns[:, np.newaxis])"
   ]
  },
  {
   "cell_type": "code",
   "execution_count": null,
   "id": "5d2e7a86",
   "metadata": {},
   "outputs": [],
   "source": [
    "model.startprob_"
   ]
  },
  {
   "cell_type": "code",
   "execution_count": null,
   "id": "3fa0b6b9",
   "metadata": {},
   "outputs": [],
   "source": [
    "model.transmat_"
   ]
  },
  {
   "cell_type": "code",
   "execution_count": null,
   "id": "391ca451",
   "metadata": {},
   "outputs": [],
   "source": [
    "model.means_"
   ]
  },
  {
   "cell_type": "code",
   "execution_count": null,
   "id": "6ee83dde",
   "metadata": {},
   "outputs": [],
   "source": [
    "model.covars_"
   ]
  },
  {
   "cell_type": "code",
   "execution_count": null,
   "id": "dceb1759",
   "metadata": {},
   "outputs": [],
   "source": [
    "theta_hat[2]"
   ]
  },
  {
   "cell_type": "code",
   "execution_count": null,
   "id": "31be0016",
   "metadata": {},
   "outputs": [],
   "source": [
    "deltaHat"
   ]
  },
  {
   "cell_type": "code",
   "execution_count": null,
   "id": "4b252097",
   "metadata": {},
   "outputs": [],
   "source": [
    "piHat[1]"
   ]
  },
  {
   "cell_type": "code",
   "execution_count": null,
   "id": "48003d4d",
   "metadata": {},
   "outputs": [],
   "source": [
    "GammaHat"
   ]
  },
  {
   "cell_type": "code",
   "execution_count": null,
   "id": "3f52e0a5",
   "metadata": {},
   "outputs": [],
   "source": [
    "model.score(log_returns[:,np.newaxis])"
   ]
  },
  {
   "cell_type": "code",
   "execution_count": null,
   "id": "4d963629",
   "metadata": {},
   "outputs": [],
   "source": [
    "pi = [NDist(model.means_[0],np.sqrt(model.covars_[0])),NDist(model.means_[1],np.sqrt(model.covars_[1]))]"
   ]
  },
  {
   "cell_type": "code",
   "execution_count": null,
   "id": "8bb5e5e9",
   "metadata": {},
   "outputs": [],
   "source": [
    "log_likelihood(model.startprob_, model.transmat_, pi, log_returns)"
   ]
  }
 ],
 "metadata": {
  "kernelspec": {
   "display_name": "Python [conda env:rl-project]",
   "language": "python",
   "name": "conda-env-rl-project-py"
  },
  "language_info": {
   "codemirror_mode": {
    "name": "ipython",
    "version": 3
   },
   "file_extension": ".py",
   "mimetype": "text/x-python",
   "name": "python",
   "nbconvert_exporter": "python",
   "pygments_lexer": "ipython3",
   "version": "3.9.7"
  }
 },
 "nbformat": 4,
 "nbformat_minor": 5
}
