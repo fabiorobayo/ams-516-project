{
 "cells": [
  {
   "cell_type": "code",
   "execution_count": 55,
   "metadata": {},
   "outputs": [],
   "source": [
    "import pandas as pd\n",
    "import numpy as np\n",
    "from scipy import optimize\n",
    "import matplotlib.pyplot as plt\n",
    "import random"
   ]
  },
  {
   "cell_type": "code",
   "execution_count": 56,
   "metadata": {},
   "outputs": [],
   "source": [
    "def optimization(h0,\n",
    "                 invested,\n",
    "                 r_vec,\n",
    "                 var_vec,\n",
    "                 p_vec,\n",
    "                 com_rate,\n",
    "                 risk_para,\n",
    "                 trade_para):\n",
    "    \"\"\"\n",
    "    Function purpose\n",
    "    -------------------------------------\n",
    "    Solves for a terminal portfolio value\n",
    "    \n",
    "    \n",
    "    Parameters\n",
    "    ----------\n",
    "    h0 : float\n",
    "        Starting value of asset in portfolio\n",
    "    invested : float [0,1]\n",
    "        Percent invested\n",
    "    r_vec : list of floats\n",
    "        Forecasted asset returns\n",
    "    var_vec : list of floats\n",
    "        Forecasted asset variances\n",
    "    p_vec : list of floats\n",
    "        Percentage of current portfolio invested\n",
    "    com_rate : float\n",
    "        Commission rate of executing a trade\n",
    "    risk_para : float (>= 0)\n",
    "        Risk aversion parameter\n",
    "    trade_para : float (>=0)\n",
    "        Trading aversion parameter\n",
    "    \"\"\"\n",
    "    \n",
    "    # Initialize portfolio values\n",
    "    V = h0 # Total portfolio value\n",
    "    asset_bal = V * invested # Amount invested in asset\n",
    "    cash_bal = V - asset_bal # Amount invested in cash\n",
    "    \n",
    "    # Compute terminal portfolio value\n",
    "    for i, r in enumerate(r_vec):\n",
    "        if i == 0:\n",
    "            amount_chg = V * (p_vec[i] - invested)\n",
    "        else:\n",
    "            amount_chg = V * (p_vec[i] - p_vec[i-1])\n",
    "        \n",
    "        asset_bal = (asset_bal + amount_chg) * (1 + r) # Update invested amount, grow by next period return\n",
    "        cash_bal -= amount_chg + np.abs(amount_chg) * com_rate # Update cash balance (less cost of trade)\n",
    "        V = asset_bal + cash_bal # Update portfolio balance\n",
    "        risk_av = risk_para * (asset_bal * var_vec[i] * asset_bal) / V # Risk aversion\n",
    "        trade_av = trade_para * np.abs(p_vec[i] - p_vec[i-1]) # Trade aversion\n",
    "        V -= risk_av + trade_av\n",
    "\n",
    "    return V"
   ]
  },
  {
   "cell_type": "code",
   "execution_count": 69,
   "metadata": {},
   "outputs": [],
   "source": [
    "# Constraints on portfolio allocation (keep percentage allocated between 0 and 1)\n",
    "cons = ({'type': 'ineq', 'fun': lambda x:  x - 1e-6}, # x[i] >= 0\n",
    "        {'type': 'ineq', 'fun': lambda x:  (1 - 1e-6) - x}) # x[i] <= 1"
   ]
  },
  {
   "cell_type": "code",
   "execution_count": 70,
   "metadata": {},
   "outputs": [],
   "source": [
    "h0 = 100\n",
    "K = 100\n",
    "com_rate = 0.01\n",
    "risk_para = 100\n",
    "trade_para = 5\n",
    "\n",
    "r_vec = np.random.normal(0.01, .03, K)\n",
    "var_vec = np.random.normal(0.005,0.005,size=K)**2\n",
    "p_vec = np.random.uniform(size=K)"
   ]
  },
  {
   "cell_type": "code",
   "execution_count": 71,
   "metadata": {},
   "outputs": [
    {
     "data": {
      "text/plain": [
       "126.41311891767842"
      ]
     },
     "execution_count": 71,
     "metadata": {},
     "output_type": "execute_result"
    }
   ],
   "source": [
    "optimization(100,\n",
    "             1,\n",
    "             r_vec,\n",
    "             var_vec,\n",
    "             p_vec,\n",
    "             com_rate=com_rate,\n",
    "             risk_para=risk_para,\n",
    "             trade_para=trade_para)"
   ]
  },
  {
   "cell_type": "code",
   "execution_count": 72,
   "metadata": {},
   "outputs": [],
   "source": [
    "prob = optimize.minimize(lambda x: -optimization(100,\n",
    "                                                 1,\n",
    "                                                 r_vec,\n",
    "                                                 var_vec,\n",
    "                                                 x,\n",
    "                                                 com_rate=com_rate,\n",
    "                                                 risk_para=risk_para,\n",
    "                                                 trade_para=trade_para),\n",
    "                         np.random.uniform(size=K),\n",
    "                         method='SLSQP',\n",
    "                         constraints=cons)"
   ]
  },
  {
   "cell_type": "code",
   "execution_count": 73,
   "metadata": {},
   "outputs": [
    {
     "data": {
      "text/plain": [
       "(0.9999990024047859, 9.96091464525762e-07)"
      ]
     },
     "execution_count": 73,
     "metadata": {},
     "output_type": "execute_result"
    }
   ],
   "source": [
    "np.max(prob.x), np.min(prob.x)"
   ]
  },
  {
   "cell_type": "code",
   "execution_count": 74,
   "metadata": {},
   "outputs": [
    {
     "data": {
      "text/plain": [
       "-378.6036967792329"
      ]
     },
     "execution_count": 74,
     "metadata": {},
     "output_type": "execute_result"
    }
   ],
   "source": [
    "prob.fun"
   ]
  },
  {
   "cell_type": "code",
   "execution_count": 75,
   "metadata": {},
   "outputs": [
    {
     "data": {
      "text/plain": [
       "array([9.99999002e-01, 1.00034658e-06, 9.99731165e-07, 9.97434336e-07,\n",
       "       9.97779167e-07, 9.97713216e-07, 9.99999001e-01, 9.99428616e-07,\n",
       "       9.99004109e-07, 9.99999001e-01, 9.91823137e-01, 9.96034878e-01,\n",
       "       9.99999002e-01, 9.99998990e-01, 9.99999001e-01, 9.99999001e-01,\n",
       "       9.98538979e-07, 9.99067904e-07, 9.99999001e-01, 9.99999001e-01,\n",
       "       9.99999002e-01, 9.99999002e-01, 9.99999001e-01, 9.98961246e-07,\n",
       "       9.99999001e-01, 9.98972952e-07, 9.98444739e-07, 9.99999002e-01,\n",
       "       9.99283514e-07, 9.98089429e-07, 9.99999000e-01, 3.17671233e-01,\n",
       "       9.98966570e-07, 9.99999002e-01, 9.99999001e-01, 9.99999002e-01,\n",
       "       9.99999001e-01, 9.99999001e-01, 9.98750526e-07, 9.97761889e-07,\n",
       "       9.99999000e-01, 9.99999001e-01, 3.19912025e-04, 9.96091465e-07,\n",
       "       9.99999000e-01, 9.99999001e-01, 9.99999002e-01, 9.98167685e-01,\n",
       "       9.99932685e-07, 9.99999001e-01, 9.99999002e-01, 9.99999002e-01,\n",
       "       9.98594579e-07, 9.99999002e-01, 9.93873450e-01, 9.99999001e-01,\n",
       "       9.99999001e-01, 9.99999002e-01, 9.99999000e-01, 9.99999000e-01,\n",
       "       9.99999000e-01, 9.99999001e-01, 9.99999000e-01, 9.99999001e-01,\n",
       "       9.99998988e-01, 9.99999000e-01, 9.99999000e-01, 9.99999000e-01,\n",
       "       9.99999000e-01, 9.99999001e-01, 9.99999000e-01, 9.98672365e-07,\n",
       "       9.97538981e-07, 9.99999001e-01, 9.99999001e-01, 9.99508904e-07,\n",
       "       9.99998999e-01, 9.99999001e-01, 9.98136898e-07, 9.99999001e-01,\n",
       "       9.99999002e-01, 9.99999001e-01, 9.99999002e-01, 9.98557640e-07,\n",
       "       9.99999001e-01, 9.98333248e-07, 9.97871722e-07, 9.96812702e-07,\n",
       "       1.18221157e-06, 8.40268751e-06, 9.99998975e-01, 9.99243426e-01,\n",
       "       9.98214669e-07, 9.98038559e-07, 9.99999000e-01, 9.99999001e-01,\n",
       "       9.99465660e-07, 9.98878693e-07, 9.99999001e-01, 9.80749371e-01])"
      ]
     },
     "execution_count": 75,
     "metadata": {},
     "output_type": "execute_result"
    }
   ],
   "source": [
    "prob.x"
   ]
  },
  {
   "cell_type": "code",
   "execution_count": 76,
   "metadata": {},
   "outputs": [],
   "source": [
    "p_vec = prob.x"
   ]
  },
  {
   "cell_type": "code",
   "execution_count": 77,
   "metadata": {},
   "outputs": [
    {
     "data": {
      "text/plain": [
       "378.6036967792329"
      ]
     },
     "execution_count": 77,
     "metadata": {},
     "output_type": "execute_result"
    }
   ],
   "source": [
    "optimization(100,\n",
    "             1,\n",
    "             r_vec,\n",
    "             var_vec,\n",
    "             p_vec,\n",
    "             com_rate=com_rate,\n",
    "             risk_para=risk_para,\n",
    "             trade_para=trade_para)"
   ]
  },
  {
   "cell_type": "code",
   "execution_count": 78,
   "metadata": {},
   "outputs": [],
   "source": [
    "### Test using sample returns from dataset"
   ]
  },
  {
   "cell_type": "code",
   "execution_count": 79,
   "metadata": {},
   "outputs": [],
   "source": [
    "data = pd.read_csv('~/Desktop/Corbin SBU/AMS 516/Project/Code/MSCI_Data.csv')\n",
    "\n",
    "data.Date = pd.to_datetime(data.Date, format='%m/%d/%y')\n",
    "\n",
    "data['log_returns'] = np.log(data.Close) - np.log(data.Close.shift(1))\n",
    "\n",
    "Neff = 260\n",
    "Volatility = np.concatenate((np.zeros(Neff),\n",
    "                             [np.sqrt(sum((data['log_returns'][i:Neff+i] -\n",
    "                                           np.mean(data['log_returns'][i:Neff+i]))**2) / Neff)\n",
    "                              for i in range(len(data)-Neff)]))\n",
    "data['Volatility'] = Volatility"
   ]
  },
  {
   "cell_type": "code",
   "execution_count": 80,
   "metadata": {},
   "outputs": [
    {
     "data": {
      "text/html": [
       "<div>\n",
       "<style scoped>\n",
       "    .dataframe tbody tr th:only-of-type {\n",
       "        vertical-align: middle;\n",
       "    }\n",
       "\n",
       "    .dataframe tbody tr th {\n",
       "        vertical-align: top;\n",
       "    }\n",
       "\n",
       "    .dataframe thead th {\n",
       "        text-align: right;\n",
       "    }\n",
       "</style>\n",
       "<table border=\"1\" class=\"dataframe\">\n",
       "  <thead>\n",
       "    <tr style=\"text-align: right;\">\n",
       "      <th></th>\n",
       "      <th>Date</th>\n",
       "      <th>Close</th>\n",
       "      <th>log_returns</th>\n",
       "      <th>Volatility</th>\n",
       "    </tr>\n",
       "  </thead>\n",
       "  <tbody>\n",
       "    <tr>\n",
       "      <th>0</th>\n",
       "      <td>1999-01-01</td>\n",
       "      <td>1149.952</td>\n",
       "      <td>NaN</td>\n",
       "      <td>0.000000</td>\n",
       "    </tr>\n",
       "    <tr>\n",
       "      <th>1</th>\n",
       "      <td>1999-01-04</td>\n",
       "      <td>1161.524</td>\n",
       "      <td>0.010013</td>\n",
       "      <td>0.000000</td>\n",
       "    </tr>\n",
       "    <tr>\n",
       "      <th>2</th>\n",
       "      <td>1999-01-05</td>\n",
       "      <td>1173.340</td>\n",
       "      <td>0.010121</td>\n",
       "      <td>0.000000</td>\n",
       "    </tr>\n",
       "    <tr>\n",
       "      <th>3</th>\n",
       "      <td>1999-01-06</td>\n",
       "      <td>1195.452</td>\n",
       "      <td>0.018670</td>\n",
       "      <td>0.000000</td>\n",
       "    </tr>\n",
       "    <tr>\n",
       "      <th>4</th>\n",
       "      <td>1999-01-07</td>\n",
       "      <td>1191.633</td>\n",
       "      <td>-0.003200</td>\n",
       "      <td>0.000000</td>\n",
       "    </tr>\n",
       "    <tr>\n",
       "      <th>...</th>\n",
       "      <td>...</td>\n",
       "      <td>...</td>\n",
       "      <td>...</td>\n",
       "      <td>...</td>\n",
       "    </tr>\n",
       "    <tr>\n",
       "      <th>4430</th>\n",
       "      <td>2015-12-25</td>\n",
       "      <td>1673.299</td>\n",
       "      <td>-0.000418</td>\n",
       "      <td>0.008154</td>\n",
       "    </tr>\n",
       "    <tr>\n",
       "      <th>4431</th>\n",
       "      <td>2015-12-28</td>\n",
       "      <td>1670.387</td>\n",
       "      <td>-0.001742</td>\n",
       "      <td>0.008152</td>\n",
       "    </tr>\n",
       "    <tr>\n",
       "      <th>4432</th>\n",
       "      <td>2015-12-29</td>\n",
       "      <td>1685.618</td>\n",
       "      <td>0.009077</td>\n",
       "      <td>0.008152</td>\n",
       "    </tr>\n",
       "    <tr>\n",
       "      <th>4433</th>\n",
       "      <td>2015-12-30</td>\n",
       "      <td>1676.432</td>\n",
       "      <td>-0.005465</td>\n",
       "      <td>0.008164</td>\n",
       "    </tr>\n",
       "    <tr>\n",
       "      <th>4434</th>\n",
       "      <td>2015-12-31</td>\n",
       "      <td>1662.794</td>\n",
       "      <td>-0.008168</td>\n",
       "      <td>0.008160</td>\n",
       "    </tr>\n",
       "  </tbody>\n",
       "</table>\n",
       "<p>4435 rows × 4 columns</p>\n",
       "</div>"
      ],
      "text/plain": [
       "           Date     Close  log_returns  Volatility\n",
       "0    1999-01-01  1149.952          NaN    0.000000\n",
       "1    1999-01-04  1161.524     0.010013    0.000000\n",
       "2    1999-01-05  1173.340     0.010121    0.000000\n",
       "3    1999-01-06  1195.452     0.018670    0.000000\n",
       "4    1999-01-07  1191.633    -0.003200    0.000000\n",
       "...         ...       ...          ...         ...\n",
       "4430 2015-12-25  1673.299    -0.000418    0.008154\n",
       "4431 2015-12-28  1670.387    -0.001742    0.008152\n",
       "4432 2015-12-29  1685.618     0.009077    0.008152\n",
       "4433 2015-12-30  1676.432    -0.005465    0.008164\n",
       "4434 2015-12-31  1662.794    -0.008168    0.008160\n",
       "\n",
       "[4435 rows x 4 columns]"
      ]
     },
     "execution_count": 80,
     "metadata": {},
     "output_type": "execute_result"
    }
   ],
   "source": [
    "data"
   ]
  },
  {
   "cell_type": "code",
   "execution_count": 86,
   "metadata": {},
   "outputs": [
    {
     "name": "stdout",
     "output_type": "stream",
     "text": [
      "96.2568556226023\n",
      "133.4934431339204\n",
      "First trade: Change investment allocation from 0.75 to 1.00\n",
      "0.9999990000079344\n"
     ]
    }
   ],
   "source": [
    "h0 = 100\n",
    "invested = .75\n",
    "K = 100\n",
    "com_rate = 0.001\n",
    "risk_para = 2\n",
    "trade_para = 0.02\n",
    "\n",
    "# Randomly grab returns\n",
    "num = np.random.randint(Neff+1, high = len(data) - 1 - 100)\n",
    "r_vec = data.log_returns[num:num + K].values\n",
    "var_vec = data.Volatility[num:num + K].values**2\n",
    "p_vec = np.random.uniform(size=K)\n",
    "\n",
    "print(optimization(h0,\n",
    "                   invested,\n",
    "                   r_vec,\n",
    "                   var_vec,\n",
    "                   p_vec,\n",
    "                   com_rate,\n",
    "                   risk_para,\n",
    "                   trade_para))\n",
    "\n",
    "prob = optimize.minimize(lambda x: -optimization(h0,\n",
    "                                                 invested,\n",
    "                                                 r_vec,\n",
    "                                                 var_vec,\n",
    "                                                 x,\n",
    "                                                 com_rate,\n",
    "                                                 risk_para,\n",
    "                                                 trade_para),\n",
    "                         np.random.uniform(size=K),\n",
    "                         method='SLSQP',\n",
    "                         constraints=cons)\n",
    "p_vec = prob.x\n",
    "\n",
    "print(optimization(h0,\n",
    "                   invested,\n",
    "                   r_vec,\n",
    "                   var_vec,\n",
    "                   p_vec,\n",
    "                   com_rate,\n",
    "                   risk_para,\n",
    "                   trade_para))\n",
    "\n",
    "print(f'First trade: Change investment allocation from {invested} to {np.abs(np.round(prob.x[0], 6)):.02f}')\n",
    "\n",
    "print(prob.x[0])"
   ]
  }
 ],
 "metadata": {
  "kernelspec": {
   "display_name": "Python 3",
   "language": "python",
   "name": "python3"
  },
  "language_info": {
   "codemirror_mode": {
    "name": "ipython",
    "version": 3
   },
   "file_extension": ".py",
   "mimetype": "text/x-python",
   "name": "python",
   "nbconvert_exporter": "python",
   "pygments_lexer": "ipython3",
   "version": "3.8.5"
  }
 },
 "nbformat": 4,
 "nbformat_minor": 4
}
