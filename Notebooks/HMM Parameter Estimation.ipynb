{
 "cells": [
  {
   "cell_type": "code",
   "execution_count": 1,
   "id": "335c385a",
   "metadata": {},
   "outputs": [],
   "source": [
    "%load_ext autoreload\n",
    "%autoreload 2\n",
    "\n",
    "import pandas as pd\n",
    "import numpy as np\n",
    "import matplotlib.pyplot as plt\n",
    "from scipy import optimize\n",
    "\n",
    "from src.HMM import *"
   ]
  },
  {
   "cell_type": "code",
   "execution_count": 46,
   "id": "194ee90c",
   "metadata": {},
   "outputs": [],
   "source": [
    "# Load from csv and compute results\n",
    "msci_data = pd.read_csv('MSCI World Index_11_22_21-12_31_93.csv')\n",
    "returns = msci_data.set_index('Date').sort_index().pct_change().dropna().query('Date >= \"1997-01-01\" and Date <= \"2015-12-31\"')\n",
    "log_returns = np.log(1 + returns.Close.values)[:,np.newaxis]"
   ]
  },
  {
   "cell_type": "code",
   "execution_count": 47,
   "id": "450094c9",
   "metadata": {},
   "outputs": [],
   "source": [
    "N_eff = 260\n",
    "f = 1 - 1/N_eff\n",
    "A = 1/N_eff"
   ]
  },
  {
   "cell_type": "code",
   "execution_count": 32,
   "id": "d913e528",
   "metadata": {},
   "outputs": [],
   "source": [
    "pi_params = np.array([[0.17/252,0.11/np.sqrt(252)],[-0.32/252,0.35/np.sqrt(252)]]) \n",
    "# r = np.random.randn(2,1)*0.01 + (1/2)\n",
    "# Gamma = np.hstack([r,1-r])\n",
    "Gamma = np.array([[0.99,0.01],[0.035,0.965]])\n",
    "# delta_r = np.random.randn(1)*0.01 + (1/2)\n",
    "# delta = np.array([delta_r[0], 1 - delta_r[0]])\n",
    "delta = np.array([0.99, 0.01])\n",
    "pi = [ NDist(p[0], p[1]) for p in pi_params ]"
   ]
  },
  {
   "cell_type": "code",
   "execution_count": 33,
   "id": "3683ebea",
   "metadata": {},
   "outputs": [],
   "source": [
    "theta_0 = params_to_vec(delta, Gamma, pi)"
   ]
  },
  {
   "cell_type": "code",
   "execution_count": 6,
   "id": "1e0f0ff0",
   "metadata": {},
   "outputs": [],
   "source": [
    "weights = f**np.arange(log_returns.shape[0], 0, -1)"
   ]
  },
  {
   "cell_type": "code",
   "execution_count": 55,
   "id": "009811f1",
   "metadata": {},
   "outputs": [],
   "source": [
    "theta_hat = initialize_theta(50, theta_0, log_returns, N_eff, f, A)"
   ]
  },
  {
   "cell_type": "code",
   "execution_count": 54,
   "id": "5f7fae98",
   "metadata": {},
   "outputs": [],
   "source": [
    "theta_0 = params_to_vec(*estimate_parameters(log_returns[:N_eff], method='em'))"
   ]
  },
  {
   "cell_type": "code",
   "execution_count": 56,
   "id": "4fa76f8f",
   "metadata": {},
   "outputs": [
    {
     "data": {
      "text/plain": [
       "array([[0.4421498331588374],\n",
       "       [0.6305362342087927],\n",
       "       [0.9977263174567201],\n",
       "       [0.002482471130195164],\n",
       "       [0.01843801285874401],\n",
       "       [0.0003182151703767247],\n",
       "       [0.006633164019670593]], dtype=object)"
      ]
     },
     "execution_count": 56,
     "metadata": {},
     "output_type": "execute_result"
    }
   ],
   "source": [
    "theta_hat"
   ]
  },
  {
   "cell_type": "code",
   "execution_count": 57,
   "id": "39a9dfe4",
   "metadata": {},
   "outputs": [],
   "source": [
    "for i in range(1,20):\n",
    "#     w_score_hat, inf_hat, l_hat = estimate_weighted_score(theta_hat, N_eff+i, log_returns, f)\n",
    "    delta_hat, Gamma_hat, pi_hat = vec_to_params(theta_hat)\n",
    "    l_hat, score_hat, inf_hat = score_and_information(delta_hat, Gamma_hat, pi_hat, log_returns[:N_eff+i])\n",
    "    theta_hat = theta_hat + A*np.linalg.inv(inf_hat)@score_hat\n",
    "    "
   ]
  },
  {
   "cell_type": "code",
   "execution_count": 58,
   "id": "4bb95f81",
   "metadata": {},
   "outputs": [
    {
     "data": {
      "text/plain": [
       "array([[0.4594296105964495],\n",
       "       [0.6158304256844532],\n",
       "       [0.997257969554121],\n",
       "       [0.0008397316402982062],\n",
       "       [0.018208752849881653],\n",
       "       [0.0002806130417421476],\n",
       "       [0.006729180559473825]], dtype=object)"
      ]
     },
     "execution_count": 58,
     "metadata": {},
     "output_type": "execute_result"
    }
   ],
   "source": [
    "theta_hat"
   ]
  },
  {
   "cell_type": "code",
   "execution_count": null,
   "id": "86f69494",
   "metadata": {
    "scrolled": true
   },
   "outputs": [],
   "source": [
    "%%time\n",
    "start = 50\n",
    "l = 0\n",
    "deltaHat, GammaHat, piHat = vec_to_params(theta_0)\n",
    "thetas = [theta_0.squeeze()]\n",
    "T = N_eff\n",
    "\n",
    "for t in range(1, T):    \n",
    "    w = f**(T-t)\n",
    "    l_t, score_t = calculate_score(deltaHat, GammaHat, piHat, log_returns[:t])\n",
    "    l += w*l_t\n",
    "\n",
    "    if t>1:\n",
    "        score = score + (score_t - score)*w\n",
    "        inf = inf + (1/t)*(score@score.T - inf)\n",
    "    else:\n",
    "        score = score_t\n",
    "        inf = score@score.T\n",
    "        theta_hat = theta_0\n",
    "\n",
    "    if t > start:   \n",
    "        theta_hat = theta_hat + A*np.linalg.inv(inf)@score\n",
    "        thetas.append(theta_hat.squeeze())\n",
    "        if np.isnan(theta_hat.astype(float)).any() or (theta_hat[4] < 0) or (theta_hat[6] < 0):\n",
    "            print('NaN found')\n",
    "        theta_hat[0] = min(max(theta_hat[0],0),1)\n",
    "        theta_hat[1] = min(max(theta_hat[1],0),1)\n",
    "        theta_hat[2] = min(max(theta_hat[2],0),1)\n",
    "        theta_hat[3] = min(max(theta_hat[2],-1/252),1/252)\n",
    "        theta_hat[4] = min(max(theta_hat[6],0.00001),1/np.sqrt(252))\n",
    "        theta_hat[5] = min(max(theta_hat[2],-1/252),1/252)\n",
    "        theta_hat[6] = min(max(theta_hat[6],0.00001),1/np.sqrt(252))\n",
    "        deltaHat, GammaHat, piHat = vec_to_params(theta_hat.squeeze())\n"
   ]
  },
  {
   "cell_type": "code",
   "execution_count": null,
   "id": "d474e6ab",
   "metadata": {},
   "outputs": [],
   "source": [
    "theta_hat"
   ]
  },
  {
   "cell_type": "code",
   "execution_count": null,
   "id": "cabc3d0c",
   "metadata": {},
   "outputs": [],
   "source": [
    "score, inf, l = estimate_weighted_score(theta_hat, N_eff + 1, log_returns, 1)"
   ]
  },
  {
   "cell_type": "code",
   "execution_count": null,
   "id": "d620fe46",
   "metadata": {},
   "outputs": [],
   "source": [
    "A*np.linalg.inv(inf)@score"
   ]
  },
  {
   "cell_type": "code",
   "execution_count": null,
   "id": "e8beb4e9",
   "metadata": {},
   "outputs": [],
   "source": [
    "calculate_score(deltaHat, GammaHat, piHat, log_returns[:N_eff+1])"
   ]
  },
  {
   "cell_type": "code",
   "execution_count": null,
   "id": "bd22b730",
   "metadata": {},
   "outputs": [],
   "source": [
    "theta_hat + A*np.linalg.inv(inf)@score"
   ]
  },
  {
   "cell_type": "code",
   "execution_count": null,
   "id": "e364a969",
   "metadata": {},
   "outputs": [],
   "source": [
    "deltaHat"
   ]
  },
  {
   "cell_type": "code",
   "execution_count": null,
   "id": "e8659034",
   "metadata": {},
   "outputs": [],
   "source": [
    "GammaHat"
   ]
  },
  {
   "cell_type": "code",
   "execution_count": null,
   "id": "ce253652",
   "metadata": {},
   "outputs": [],
   "source": [
    "piHat"
   ]
  },
  {
   "cell_type": "code",
   "execution_count": null,
   "id": "abb60aa4",
   "metadata": {},
   "outputs": [],
   "source": [
    "thetas"
   ]
  },
  {
   "cell_type": "code",
   "execution_count": null,
   "id": "2fd806c8",
   "metadata": {},
   "outputs": [],
   "source": [
    "score"
   ]
  },
  {
   "cell_type": "code",
   "execution_count": null,
   "id": "1a4e8230",
   "metadata": {},
   "outputs": [],
   "source": [
    "foo = lambda x: -log_likelihood_optim(x, log_returns[:N_eff])"
   ]
  },
  {
   "cell_type": "code",
   "execution_count": null,
   "id": "cb5826d7",
   "metadata": {},
   "outputs": [],
   "source": [
    "result_nm = optimize.minimize(\n",
    "        foo, \n",
    "        np.array(theta_0), \n",
    "        method='Nelder-Mead',\n",
    "        bounds=[\n",
    "                (0,1),\n",
    "                (0,1),\n",
    "                (0,1),\n",
    "                (-0.05,0.05),\n",
    "                (0.002,0.05),\n",
    "                (-0.1,0.1),\n",
    "                (0.002,0.05)\n",
    "        ])"
   ]
  },
  {
   "cell_type": "code",
   "execution_count": null,
   "id": "c11596aa",
   "metadata": {},
   "outputs": [],
   "source": [
    "result_nm"
   ]
  },
  {
   "cell_type": "code",
   "execution_count": null,
   "id": "06297613",
   "metadata": {},
   "outputs": [],
   "source": [
    "result_tnc = optimize.minimize(\n",
    "        foo, \n",
    "        np.array(theta_0), \n",
    "        method='TNC',\n",
    "        bounds=[\n",
    "                (0,1),\n",
    "                (0,1),\n",
    "                (0,1),\n",
    "                (-0.05,0.05),\n",
    "                (0.002,0.05),\n",
    "                (-0.1,0.1),\n",
    "                (0.002,0.05)\n",
    "        ])"
   ]
  },
  {
   "cell_type": "code",
   "execution_count": null,
   "id": "b0077076",
   "metadata": {},
   "outputs": [],
   "source": [
    "result_tnc"
   ]
  },
  {
   "cell_type": "code",
   "execution_count": null,
   "id": "5989de96",
   "metadata": {},
   "outputs": [],
   "source": [
    "result_t_ex = optimize.minimize(\n",
    "        foo, \n",
    "        np.array(theta_0), \n",
    "        method='trust-exact',\n",
    "        jac = None,\n",
    "        hess = optimize.BFGS\n",
    ")"
   ]
  },
  {
   "cell_type": "code",
   "execution_count": null,
   "id": "95c53dac",
   "metadata": {},
   "outputs": [],
   "source": [
    "for i in range(260):\n",
    "    delta, Gamma, pi = estimate_parameters(l_ret_t, theta_0=theta)\n",
    "    calculate_score(delta, Gamma, pi, observations)"
   ]
  },
  {
   "cell_type": "code",
   "execution_count": null,
   "id": "c77335e4",
   "metadata": {},
   "outputs": [],
   "source": [
    "f**(1000)"
   ]
  },
  {
   "cell_type": "code",
   "execution_count": null,
   "id": "03b579a2",
   "metadata": {},
   "outputs": [],
   "source": [
    "theta_hat = params_to_vec(deltaHat, GammaHat, piHat)"
   ]
  },
  {
   "cell_type": "code",
   "execution_count": 12,
   "id": "c3e29a59",
   "metadata": {},
   "outputs": [
    {
     "data": {
      "text/plain": [
       "array([[0.6175814182325154],\n",
       "       [0.4854415167434831],\n",
       "       [0.4047907098735073],\n",
       "       [0.003968253968253968],\n",
       "       [0.02287334416458487],\n",
       "       [0.003968253968253968],\n",
       "       [0.02287334416458487]], dtype=object)"
      ]
     },
     "execution_count": 12,
     "metadata": {},
     "output_type": "execute_result"
    }
   ],
   "source": [
    "theta_hat"
   ]
  },
  {
   "cell_type": "code",
   "execution_count": null,
   "id": "de516e68",
   "metadata": {},
   "outputs": [],
   "source": [
    "w_score_0, inf_0, l_0 = estimate_weighted_score(theta_0, N_eff+1, log_returns, f)"
   ]
  },
  {
   "cell_type": "code",
   "execution_count": null,
   "id": "4830e7e4",
   "metadata": {},
   "outputs": [],
   "source": [
    "A*np.linalg.inv(inf_0)@w_score_0"
   ]
  },
  {
   "cell_type": "code",
   "execution_count": 22,
   "id": "f7ad07fe",
   "metadata": {},
   "outputs": [],
   "source": [
    "w_score_hat, inf_hat, l_hat = estimate_weighted_score(theta_hat, N_eff+1, log_returns, f)"
   ]
  },
  {
   "cell_type": "code",
   "execution_count": null,
   "id": "6fff8616",
   "metadata": {},
   "outputs": [],
   "source": [
    "l_0"
   ]
  },
  {
   "cell_type": "code",
   "execution_count": null,
   "id": "62f1cbca",
   "metadata": {},
   "outputs": [],
   "source": [
    "l_hat"
   ]
  },
  {
   "cell_type": "code",
   "execution_count": null,
   "id": "c929e976",
   "metadata": {},
   "outputs": [],
   "source": [
    "pd.DataFrame(inf_0)"
   ]
  },
  {
   "cell_type": "code",
   "execution_count": null,
   "id": "4e2fba54",
   "metadata": {},
   "outputs": [],
   "source": [
    "pd.DataFrame(inf_hat)"
   ]
  },
  {
   "cell_type": "code",
   "execution_count": 13,
   "id": "f05a64fc",
   "metadata": {},
   "outputs": [
    {
     "ename": "NameError",
     "evalue": "name 'inf_0' is not defined",
     "output_type": "error",
     "traceback": [
      "\u001b[0;31m---------------------------------------------------------------------------\u001b[0m",
      "\u001b[0;31mNameError\u001b[0m                                 Traceback (most recent call last)",
      "\u001b[0;32m/var/folders/60/tms9npp17r9c3lnlv6037z440000gn/T/ipykernel_85307/2460700432.py\u001b[0m in \u001b[0;36m<module>\u001b[0;34m\u001b[0m\n\u001b[0;32m----> 1\u001b[0;31m \u001b[0mA\u001b[0m\u001b[0;34m*\u001b[0m\u001b[0mnp\u001b[0m\u001b[0;34m.\u001b[0m\u001b[0mlinalg\u001b[0m\u001b[0;34m.\u001b[0m\u001b[0minv\u001b[0m\u001b[0;34m(\u001b[0m\u001b[0minf_0\u001b[0m\u001b[0;34m)\u001b[0m\u001b[0;34m@\u001b[0m\u001b[0mw_score_0\u001b[0m\u001b[0;34m\u001b[0m\u001b[0;34m\u001b[0m\u001b[0m\n\u001b[0m",
      "\u001b[0;31mNameError\u001b[0m: name 'inf_0' is not defined"
     ]
    }
   ],
   "source": [
    "A*np.linalg.inv(inf_0)@w_score_0"
   ]
  },
  {
   "cell_type": "code",
   "execution_count": 23,
   "id": "fc2d8dcd",
   "metadata": {},
   "outputs": [
    {
     "data": {
      "text/plain": [
       "array([[-8.52283233e-03],\n",
       "       [ 3.66934423e-03],\n",
       "       [ 1.87652068e-03],\n",
       "       [-5.22617193e-05],\n",
       "       [-9.92255279e-05],\n",
       "       [-8.10198130e-06],\n",
       "       [-2.58281651e-06]])"
      ]
     },
     "execution_count": 23,
     "metadata": {},
     "output_type": "execute_result"
    }
   ],
   "source": [
    "A*np.linalg.inv(inf_hat)@w_score_hat"
   ]
  },
  {
   "cell_type": "code",
   "execution_count": null,
   "id": "222c8aa8",
   "metadata": {},
   "outputs": [],
   "source": [
    "A*np.linalg.inv(inf_hat)@w_score_hat"
   ]
  },
  {
   "cell_type": "code",
   "execution_count": null,
   "id": "f56b173d",
   "metadata": {},
   "outputs": [],
   "source": [
    "%%time\n",
    "# theta_hat = theta_0\n",
    "for i in range(N_eff+1,N_eff+6):\n",
    "    score, inf, l = estimate_weighted_score(theta_hat, i, log_returns, f)\n",
    "    theta_hat = theta_hat + A*np.linalg.inv(inf)@score"
   ]
  },
  {
   "cell_type": "code",
   "execution_count": null,
   "id": "b0a6a3a2",
   "metadata": {},
   "outputs": [],
   "source": [
    "log_returns[:265]"
   ]
  },
  {
   "cell_type": "code",
   "execution_count": null,
   "id": "1ad867ce",
   "metadata": {},
   "outputs": [],
   "source": [
    "theta_hat"
   ]
  },
  {
   "cell_type": "code",
   "execution_count": null,
   "id": "0ac0e50d",
   "metadata": {},
   "outputs": [],
   "source": [
    "theta_hat = theta_hat + A*np.linalg.inv(inf_hat)@w_score_hat"
   ]
  },
  {
   "cell_type": "code",
   "execution_count": null,
   "id": "35a3d0da",
   "metadata": {},
   "outputs": [],
   "source": [
    "theta_hat"
   ]
  },
  {
   "cell_type": "code",
   "execution_count": null,
   "id": "5a304d9b",
   "metadata": {},
   "outputs": [],
   "source": [
    "pi_params = np.array([[0.001062485, np.sqrt(9.378643e-05)],[-0.001423847, np.sqrt(2.266116e-05)]]) \n",
    "Gamma = np.array([[0.81923264,0.1807674],[0.05821518,0.9417848]])\n",
    "delta = np.array([0.0008201211, 0.9991798789])\n",
    "pi = [ NDist(p[0], p[1]) for p in pi_params ]"
   ]
  },
  {
   "cell_type": "code",
   "execution_count": null,
   "id": "21c3fd19",
   "metadata": {},
   "outputs": [],
   "source": [
    "l, score, inf = score_and_information(delta, Gamma, pi, log_returns, weights=weights)"
   ]
  },
  {
   "cell_type": "code",
   "execution_count": null,
   "id": "6e5def5c",
   "metadata": {},
   "outputs": [],
   "source": [
    "A*np.linalg.inv(inf)@score"
   ]
  },
  {
   "cell_type": "code",
   "execution_count": null,
   "id": "7b209b0c",
   "metadata": {},
   "outputs": [],
   "source": [
    "theta_0 + A*np.linalg.inv(inf)@score"
   ]
  },
  {
   "cell_type": "code",
   "execution_count": 17,
   "id": "bdcfb1c6",
   "metadata": {},
   "outputs": [
    {
     "data": {
      "text/plain": [
       "(array([0.61758142, 0.38241858]),\n",
       " array([[0.48544152, 0.51455848],\n",
       "        [0.59520929, 0.40479071]]),\n",
       " [{\n",
       "      \"class\" : \"Distribution\",\n",
       "      \"name\" : \"NormalDistribution\",\n",
       "      \"parameters\" : [\n",
       "          0.003968253968253968,\n",
       "          0.02287334416458487\n",
       "      ],\n",
       "      \"frozen\" : false\n",
       "  },\n",
       "  {\n",
       "      \"class\" : \"Distribution\",\n",
       "      \"name\" : \"NormalDistribution\",\n",
       "      \"parameters\" : [\n",
       "          0.003968253968253968,\n",
       "          0.02287334416458487\n",
       "      ],\n",
       "      \"frozen\" : false\n",
       "  }])"
      ]
     },
     "execution_count": 17,
     "metadata": {},
     "output_type": "execute_result"
    }
   ],
   "source": [
    "vec_to_params(theta_hat)"
   ]
  },
  {
   "cell_type": "code",
   "execution_count": null,
   "id": "f662801a",
   "metadata": {},
   "outputs": [],
   "source": []
  }
 ],
 "metadata": {
  "kernelspec": {
   "display_name": "Python [conda env:rl-project]",
   "language": "python",
   "name": "conda-env-rl-project-py"
  },
  "language_info": {
   "codemirror_mode": {
    "name": "ipython",
    "version": 3
   },
   "file_extension": ".py",
   "mimetype": "text/x-python",
   "name": "python",
   "nbconvert_exporter": "python",
   "pygments_lexer": "ipython3",
   "version": "3.9.7"
  }
 },
 "nbformat": 4,
 "nbformat_minor": 5
}
