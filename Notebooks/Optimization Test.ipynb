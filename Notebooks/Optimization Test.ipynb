{
 "cells": [
  {
   "cell_type": "code",
   "execution_count": 1,
   "id": "3b091a96",
   "metadata": {},
   "outputs": [],
   "source": [
    "from scipy import optimize\n",
    "import pandas as pd\n",
    "import numpy as np\n",
    "from HMM.HMM import *"
   ]
  },
  {
   "cell_type": "code",
   "execution_count": 2,
   "id": "61dbb080",
   "metadata": {},
   "outputs": [],
   "source": [
    "msci_data = pd.read_csv('MSCI World Index_11_22_21-12_31_93.csv')\n",
    "log_returns = np.log(1 + msci_data.set_index('Date').sort_index().pct_change().dropna().query('Date >= \"1997-01-01\"').Close.values)"
   ]
  },
  {
   "cell_type": "markdown",
   "id": "c92eaa0f",
   "metadata": {},
   "source": [
    "## You can pick any of these 3 sets of params for different forecasts\n",
    "## They will eventually come from the HMM param estimation on each iteration"
   ]
  },
  {
   "cell_type": "code",
   "execution_count": 7,
   "id": "a858a720",
   "metadata": {},
   "outputs": [],
   "source": [
    "params = np.array([0.5077055826569, 0.5089675748916382, 0.49371308141923975, 0.0001984126984126984, 0.006929348671835832, -0.0003968253968253968, 0.01889822365046136])"
   ]
  },
  {
   "cell_type": "code",
   "execution_count": 3,
   "id": "5c407c7a",
   "metadata": {},
   "outputs": [],
   "source": [
    "params = np.array([1.71886280e-03,  1.00000000e+00,  1.56178938e-01,  8.75618896e-04, 2.00000000e-03, -2.09113589e-03,  3.05494832e-03])"
   ]
  },
  {
   "cell_type": "code",
   "execution_count": 10,
   "id": "452b0d6f",
   "metadata": {},
   "outputs": [],
   "source": [
    "params = np.array([0.7,0.99,0.95,0.001,np.sqrt(1/252)*0.11,-0.005,np.sqrt(1/252)*0.3])"
   ]
  },
  {
   "cell_type": "code",
   "execution_count": 11,
   "id": "dc513f88",
   "metadata": {},
   "outputs": [],
   "source": [
    "delta, Gamma, pi = vec_to_params(params)\n",
    "K = 100\n",
    "forecasted_mean, forecasted_var = get_hmm_forecasts(K, delta, Gamma, pi, log_returns)"
   ]
  },
  {
   "cell_type": "markdown",
   "id": "03fdd015",
   "metadata": {},
   "source": [
    "## Portfolio optimization code comes below"
   ]
  },
  {
   "cell_type": "code",
   "execution_count": null,
   "id": "a3a6dbb6",
   "metadata": {},
   "outputs": [],
   "source": [
    "def value(h0, r_vec, u, cost):\n",
    "    \n",
    "    V = h0\n",
    "    \n",
    "    for i, r in enumerate(r_vec):\n",
    "        V += (1+r)*u[i] - cost*u[i]\n",
    "    \n",
    "    return V"
   ]
  },
  {
   "cell_type": "code",
   "execution_count": null,
   "id": "f3032856",
   "metadata": {},
   "outputs": [],
   "source": [
    "r_vec = np.random.randn(10)"
   ]
  },
  {
   "cell_type": "code",
   "execution_count": null,
   "id": "c95b7784",
   "metadata": {},
   "outputs": [],
   "source": [
    "r_vec"
   ]
  },
  {
   "cell_type": "code",
   "execution_count": null,
   "id": "1c2267ea",
   "metadata": {},
   "outputs": [],
   "source": [
    "value(100,r_vec,np.ones(10))"
   ]
  },
  {
   "cell_type": "code",
   "execution_count": null,
   "id": "454ae85c",
   "metadata": {},
   "outputs": [],
   "source": [
    "prob = optimize.minimize(lambda x: -value(100,r_vec,x, 0.01),np.ones(10))"
   ]
  },
  {
   "cell_type": "code",
   "execution_count": null,
   "id": "b61e0c7e",
   "metadata": {},
   "outputs": [],
   "source": [
    "prob.x"
   ]
  }
 ],
 "metadata": {
  "kernelspec": {
   "display_name": "Python [conda env:rl-project]",
   "language": "python",
   "name": "conda-env-rl-project-py"
  },
  "language_info": {
   "codemirror_mode": {
    "name": "ipython",
    "version": 3
   },
   "file_extension": ".py",
   "mimetype": "text/x-python",
   "name": "python",
   "nbconvert_exporter": "python",
   "pygments_lexer": "ipython3",
   "version": "3.9.7"
  }
 },
 "nbformat": 4,
 "nbformat_minor": 5
}
